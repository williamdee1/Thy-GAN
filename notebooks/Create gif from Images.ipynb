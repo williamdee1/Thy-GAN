{
 "cells": [
  {
   "cell_type": "code",
   "execution_count": 12,
   "id": "3e7bacc4",
   "metadata": {},
   "outputs": [],
   "source": [
    "import glob\n",
    "from PIL import Image\n",
    "import os, sys\n",
    "import pandas as pd\n",
    "import numpy as np\n",
    "import matplotlib.pyplot as plt\n",
    "\n",
    "%matplotlib inline"
   ]
  },
  {
   "cell_type": "code",
   "execution_count": 85,
   "id": "78df6811",
   "metadata": {},
   "outputs": [],
   "source": [
    "plt.rcParams['savefig.facecolor']='white'"
   ]
  },
  {
   "cell_type": "markdown",
   "id": "56993475",
   "metadata": {},
   "source": [
    "# Gif Maker:"
   ]
  },
  {
   "cell_type": "code",
   "execution_count": 3,
   "id": "26358cfa",
   "metadata": {},
   "outputs": [],
   "source": [
    "# Directory containing image files to create gif from:\n",
    "image_dir = 'results/gan_gif/'"
   ]
  },
  {
   "cell_type": "code",
   "execution_count": 93,
   "id": "0a57733f",
   "metadata": {},
   "outputs": [],
   "source": [
    "def crop_imgs(frame_folder):\n",
    "    # Listing files in directory:\n",
    "    files = list(filter(os.path.isfile, glob.glob(frame_folder + \"*.png\")))\n",
    "    # Opening original images and cropping:\n",
    "    frames = [Image.open(image).crop((3070, 1537, 4607, 3074)) for image in files]\n",
    "    \n",
    "    im_labels = ['None', '0.2 million', '0.4 million', '0.6 million', '0.8 million', '1 million', '2 million',\n",
    "                 '3 million', '4 million', '5 million', '7 million', '9 million', '11 million', '13 million',\n",
    "                 '15 million', '17 million', '19 million']\n",
    "    # \n",
    "    for i, im in enumerate(frames):\n",
    "        plt.figure(figsize=(10,10), dpi=300)       \n",
    "        plt.title('\\nTraining Images - %s' % im_labels[i], fontsize=18, fontweight = 'bold')\n",
    "        plt.imshow(im)\n",
    "        plt.axis('off')\n",
    "        plt.savefig('results/gan_gif/cropped/%s.png' % i, bbox_inches='tight',pad_inches = 0)\n",
    "    "
   ]
  },
  {
   "cell_type": "code",
   "execution_count": 94,
   "id": "332101f5",
   "metadata": {},
   "outputs": [],
   "source": [
    "def make_gif(frame_folder, gif_name):\n",
    "    # Sorting files by creation time:\n",
    "    files = list(filter(os.path.isfile, glob.glob(frame_folder + \"*.png\")))\n",
    "    files.sort(key=lambda x: os.path.getmtime(x))\n",
    "    # Storing all file frames and saving as gif:\n",
    "    frames = [Image.open(image) for image in files]\n",
    "    gif = frames[0]\n",
    "    gif.save(gif_name, format=\"GIF\", append_images=frames,\n",
    "               save_all=True, duration=1200, loop=1)"
   ]
  },
  {
   "cell_type": "code",
   "execution_count": null,
   "id": "62870c1b",
   "metadata": {},
   "outputs": [],
   "source": [
    "# Crop images:\n",
    "crop_imgs(image_dir)"
   ]
  },
  {
   "cell_type": "code",
   "execution_count": 96,
   "id": "55b41122",
   "metadata": {},
   "outputs": [],
   "source": [
    "cropped_dir = 'results/gan_gif/cropped/'\n",
    "gif_name = 'results/gan_gif/biGAN.gif'"
   ]
  },
  {
   "cell_type": "code",
   "execution_count": 97,
   "id": "7e80c382",
   "metadata": {},
   "outputs": [],
   "source": [
    "# Create gif from cropped images:\n",
    "make_gif(cropped_dir, gif_name)"
   ]
  }
 ],
 "metadata": {
  "kernelspec": {
   "display_name": "Python 3 (ipykernel)",
   "language": "python",
   "name": "python3"
  },
  "language_info": {
   "codemirror_mode": {
    "name": "ipython",
    "version": 3
   },
   "file_extension": ".py",
   "mimetype": "text/x-python",
   "name": "python",
   "nbconvert_exporter": "python",
   "pygments_lexer": "ipython3",
   "version": "3.9.7"
  },
  "toc": {
   "base_numbering": 1,
   "nav_menu": {},
   "number_sections": true,
   "sideBar": true,
   "skip_h1_title": false,
   "title_cell": "Table of Contents",
   "title_sidebar": "Contents",
   "toc_cell": false,
   "toc_position": {},
   "toc_section_display": true,
   "toc_window_display": false
  }
 },
 "nbformat": 4,
 "nbformat_minor": 5
}
