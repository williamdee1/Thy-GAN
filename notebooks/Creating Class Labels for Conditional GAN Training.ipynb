{
 "cells": [
  {
   "cell_type": "markdown",
   "id": "a8d3bde4",
   "metadata": {},
   "source": [
    "# Imports:"
   ]
  },
  {
   "cell_type": "code",
   "execution_count": 2,
   "id": "31f3c8bb",
   "metadata": {},
   "outputs": [],
   "source": [
    "import pandas as pd\n",
    "import json, glob, os\n",
    "from pathlib import Path\n",
    "from typing import Callable, Optional, Tuple, Union\n",
    "import PIL.Image"
   ]
  },
  {
   "cell_type": "markdown",
   "id": "3cae7f8b",
   "metadata": {},
   "source": [
    "# Create Binary Image Labels:\n",
    "\n",
    "- Create labels for all Tharun Thompson images based on binary classification - being PTC-like (1) or not (0)."
   ]
  },
  {
   "cell_type": "code",
   "execution_count": 88,
   "id": "7d6c2ca0",
   "metadata": {},
   "outputs": [
    {
     "data": {
      "text/plain": [
       "['all_imgs/TharunThompson\\\\100a.jpeg',\n",
       " 'all_imgs/TharunThompson\\\\100b.jpeg',\n",
       " 'all_imgs/TharunThompson\\\\100c.jpeg',\n",
       " 'all_imgs/TharunThompson\\\\100d.jpeg',\n",
       " 'all_imgs/TharunThompson\\\\100e.jpeg']"
      ]
     },
     "execution_count": 88,
     "metadata": {},
     "output_type": "execute_result"
    }
   ],
   "source": [
    "image_paths = glob.glob(\"data/TharunThompson/*\")\n",
    "image_paths[0:5]"
   ]
  },
  {
   "cell_type": "code",
   "execution_count": 89,
   "id": "fd421f79",
   "metadata": {},
   "outputs": [
    {
     "data": {
      "text/html": [
       "<div>\n",
       "<style scoped>\n",
       "    .dataframe tbody tr th:only-of-type {\n",
       "        vertical-align: middle;\n",
       "    }\n",
       "\n",
       "    .dataframe tbody tr th {\n",
       "        vertical-align: top;\n",
       "    }\n",
       "\n",
       "    .dataframe thead th {\n",
       "        text-align: right;\n",
       "    }\n",
       "</style>\n",
       "<table border=\"1\" class=\"dataframe\">\n",
       "  <thead>\n",
       "    <tr style=\"text-align: right;\">\n",
       "      <th></th>\n",
       "      <th>patient</th>\n",
       "      <th>diagnose</th>\n",
       "      <th>Slices</th>\n",
       "      <th>Resolution (20x/40x)</th>\n",
       "      <th>classification</th>\n",
       "      <th>img_lbl</th>\n",
       "      <th>bi_class</th>\n",
       "    </tr>\n",
       "  </thead>\n",
       "  <tbody>\n",
       "    <tr>\n",
       "      <th>0</th>\n",
       "      <td>1</td>\n",
       "      <td>PTC</td>\n",
       "      <td>10</td>\n",
       "      <td>40</td>\n",
       "      <td>PTC-like</td>\n",
       "      <td>1a.jpeg</td>\n",
       "      <td>1.0</td>\n",
       "    </tr>\n",
       "    <tr>\n",
       "      <th>1</th>\n",
       "      <td>1</td>\n",
       "      <td>PTC</td>\n",
       "      <td>10</td>\n",
       "      <td>40</td>\n",
       "      <td>PTC-like</td>\n",
       "      <td>1b.jpeg</td>\n",
       "      <td>1.0</td>\n",
       "    </tr>\n",
       "    <tr>\n",
       "      <th>2</th>\n",
       "      <td>1</td>\n",
       "      <td>PTC</td>\n",
       "      <td>10</td>\n",
       "      <td>40</td>\n",
       "      <td>PTC-like</td>\n",
       "      <td>1c.jpeg</td>\n",
       "      <td>1.0</td>\n",
       "    </tr>\n",
       "    <tr>\n",
       "      <th>3</th>\n",
       "      <td>1</td>\n",
       "      <td>PTC</td>\n",
       "      <td>10</td>\n",
       "      <td>40</td>\n",
       "      <td>PTC-like</td>\n",
       "      <td>1d.jpeg</td>\n",
       "      <td>1.0</td>\n",
       "    </tr>\n",
       "    <tr>\n",
       "      <th>4</th>\n",
       "      <td>1</td>\n",
       "      <td>PTC</td>\n",
       "      <td>10</td>\n",
       "      <td>40</td>\n",
       "      <td>PTC-like</td>\n",
       "      <td>1e.jpeg</td>\n",
       "      <td>1.0</td>\n",
       "    </tr>\n",
       "  </tbody>\n",
       "</table>\n",
       "</div>"
      ],
      "text/plain": [
       "   patient diagnose  Slices  Resolution (20x/40x) classification  img_lbl  \\\n",
       "0        1      PTC      10                    40       PTC-like  1a.jpeg   \n",
       "1        1      PTC      10                    40       PTC-like  1b.jpeg   \n",
       "2        1      PTC      10                    40       PTC-like  1c.jpeg   \n",
       "3        1      PTC      10                    40       PTC-like  1d.jpeg   \n",
       "4        1      PTC      10                    40       PTC-like  1e.jpeg   \n",
       "\n",
       "   bi_class  \n",
       "0       1.0  \n",
       "1       1.0  \n",
       "2       1.0  \n",
       "3       1.0  \n",
       "4       1.0  "
      ]
     },
     "execution_count": 89,
     "metadata": {},
     "output_type": "execute_result"
    }
   ],
   "source": [
    "class_df = pd.read_csv('data/tt_class_detailed.csv')\n",
    "class_df.head()"
   ]
  },
  {
   "cell_type": "code",
   "execution_count": 251,
   "id": "05f9b169",
   "metadata": {},
   "outputs": [
    {
     "data": {
      "text/plain": [
       "non-PTC-like    850\n",
       "PTC-like        646\n",
       "Name: classification, dtype: int64"
      ]
     },
     "execution_count": 251,
     "metadata": {},
     "output_type": "execute_result"
    }
   ],
   "source": [
    "# Count the number of images of each classification type:\n",
    "class_df.classification.value_counts()"
   ]
  },
  {
   "cell_type": "code",
   "execution_count": 90,
   "id": "cf2ea40a",
   "metadata": {},
   "outputs": [
    {
     "data": {
      "text/plain": [
       "['100a.jpeg', '100b.jpeg', '100c.jpeg', '100d.jpeg', '100e.jpeg']"
      ]
     },
     "execution_count": 90,
     "metadata": {},
     "output_type": "execute_result"
    }
   ],
   "source": [
    "fnames = [os.path.basename(x) for x in image_paths]\n",
    "fnames[0:5]"
   ]
  },
  {
   "cell_type": "code",
   "execution_count": 91,
   "id": "f6bb34b3",
   "metadata": {},
   "outputs": [
    {
     "data": {
      "text/plain": [
       "[0, 0, 0, 0, 0]"
      ]
     },
     "execution_count": 91,
     "metadata": {},
     "output_type": "execute_result"
    }
   ],
   "source": [
    "class_lbls = [int(class_df[class_df['img_lbl']==x].bi_class.values[0]) for x in fnames]\n",
    "class_lbls[0:5]"
   ]
  },
  {
   "cell_type": "code",
   "execution_count": 92,
   "id": "e7bf66e7",
   "metadata": {},
   "outputs": [
    {
     "name": "stdout",
     "output_type": "stream",
     "text": [
      "['100', '100', '100', '100', '100']\n",
      "['FA', 'FA', 'FA', 'FA', 'FA']\n"
     ]
    }
   ],
   "source": [
    "patient_lbls = [str(class_df[class_df['img_lbl']==x].patient.values[0]) for x in fnames]\n",
    "print(patient_lbls[0:5])\n",
    "diagnosis_lbls = [str(class_df[class_df['img_lbl']==x].diagnose.values[0]) for x in fnames]\n",
    "print(diagnosis_lbls[0:5])"
   ]
  },
  {
   "cell_type": "code",
   "execution_count": 93,
   "id": "d7a2ab6f",
   "metadata": {
    "scrolled": true
   },
   "outputs": [
    {
     "data": {
      "text/plain": [
       "[['100a.jpeg', 0],\n",
       " ['100b.jpeg', 0],\n",
       " ['100c.jpeg', 0],\n",
       " ['100d.jpeg', 0],\n",
       " ['100e.jpeg', 0]]"
      ]
     },
     "execution_count": 93,
     "metadata": {},
     "output_type": "execute_result"
    }
   ],
   "source": [
    "# Creating labels to be used during GAN and model training: \n",
    "lbl_list = list(map(lambda x, y:[x,y], fnames, class_lbls))\n",
    "lbl_list[0:5]"
   ]
  },
  {
   "cell_type": "code",
   "execution_count": 94,
   "id": "39454f71",
   "metadata": {},
   "outputs": [
    {
     "data": {
      "text/plain": [
       "[['100a.jpeg', 0, '100', 'FA'],\n",
       " ['100b.jpeg', 0, '100', 'FA'],\n",
       " ['100c.jpeg', 0, '100', 'FA'],\n",
       " ['100d.jpeg', 0, '100', 'FA'],\n",
       " ['100e.jpeg', 0, '100', 'FA']]"
      ]
     },
     "execution_count": 94,
     "metadata": {},
     "output_type": "execute_result"
    }
   ],
   "source": [
    "# Creating meta-data to be used during model evaluation:\n",
    "meta_list = list(map(lambda a,b,c,d:[a,b,c,d], fnames, class_lbls, patient_lbls, diagnosis_lbls))\n",
    "meta_list[0:5]"
   ]
  },
  {
   "cell_type": "code",
   "execution_count": 95,
   "id": "476e5a3a",
   "metadata": {},
   "outputs": [],
   "source": [
    "lab_dict = {}\n",
    "lab_dict['labels'] = lbl_list\n",
    "lab_dict['meta'] = meta_list"
   ]
  },
  {
   "cell_type": "code",
   "execution_count": 96,
   "id": "696e6d4a",
   "metadata": {},
   "outputs": [],
   "source": [
    "# Saving labels dict to json file:\n",
    "with open('data/labels/bi_dataset.json', 'w') as f:\n",
    "    json.dump(lab_dict, f)"
   ]
  },
  {
   "cell_type": "markdown",
   "id": "0e6b072c",
   "metadata": {},
   "source": [
    "# Create Multi-Class Classification Labels:\n",
    "- Create labels based on multi-class diagnosis, being as follows:\n",
    "    \n",
    "    PTC-like:\n",
    "        - Classical papillary thyroid carcinoma (PTC, 53 patients) - 0\n",
    "        - Noninvasive follicular thyroid neoplasm with papillary-like nuclear features (NIFTP, 9 patients) - 1\n",
    "        - Follicular variant papillary thyroid carcinoma (FVPTC, 9 patients) - 2\n",
    "    Non-PTC-like\n",
    "        - Follicular thyroid adenoma (FA, 53 patients) - 3\n",
    "        - Follicular thyroid carcinoma (FTC, 32 patients) - 4"
   ]
  },
  {
   "cell_type": "code",
   "execution_count": 101,
   "id": "41824119",
   "metadata": {},
   "outputs": [
    {
     "data": {
      "text/plain": [
       "FA       530\n",
       "PTC      484\n",
       "FTC      320\n",
       "FVPTC     86\n",
       "NIFTP     76\n",
       "Name: diagnose, dtype: int64"
      ]
     },
     "execution_count": 101,
     "metadata": {},
     "output_type": "execute_result"
    }
   ],
   "source": [
    "# Count the number of images in each diagnosis class:\n",
    "class_df.diagnose.value_counts()"
   ]
  },
  {
   "cell_type": "code",
   "execution_count": 102,
   "id": "5ff98f87",
   "metadata": {},
   "outputs": [],
   "source": [
    "multi_class_dict = {\n",
    "    \"PTC\": 0,\n",
    "    \"NIFTP\": 1,\n",
    "    \"FVPTC\": 2,\n",
    "    \"FA\": 3,\n",
    "    \"FTC\": 4\n",
    "}"
   ]
  },
  {
   "cell_type": "code",
   "execution_count": 116,
   "id": "380087e8",
   "metadata": {},
   "outputs": [
    {
     "data": {
      "text/plain": [
       "3    530\n",
       "0    484\n",
       "4    320\n",
       "2     86\n",
       "1     76\n",
       "Name: mc_lbls, dtype: int64"
      ]
     },
     "execution_count": 116,
     "metadata": {},
     "output_type": "execute_result"
    }
   ],
   "source": [
    "# Creating multi-class labels based on diagnose column:\n",
    "m_c_lbls = [multi_class_dict[x] for x in class_df.diagnose]\n",
    "      \n",
    "# Assingn labels to column in df:\n",
    "class_df['mc_lbls'] = m_c_lbls\n",
    "\n",
    "# Confirm the right number of class labels (= to no. images above)\n",
    "class_df['mc_lbls'].value_counts()"
   ]
  },
  {
   "cell_type": "code",
   "execution_count": 118,
   "id": "c3a6dce2",
   "metadata": {},
   "outputs": [
    {
     "data": {
      "text/plain": [
       "[3, 3, 3, 3, 3]"
      ]
     },
     "execution_count": 118,
     "metadata": {},
     "output_type": "execute_result"
    }
   ],
   "source": [
    "# Align the multi-class labels with the filenames:\n",
    "mc_fname_lbls = [int(class_df[class_df['img_lbl']==x].mc_lbls.values[0]) for x in fnames]\n",
    "mc_fname_lbls[0:5]"
   ]
  },
  {
   "cell_type": "code",
   "execution_count": 119,
   "id": "a769f3a7",
   "metadata": {},
   "outputs": [
    {
     "data": {
      "text/plain": [
       "[['100a.jpeg', 3],\n",
       " ['100b.jpeg', 3],\n",
       " ['100c.jpeg', 3],\n",
       " ['100d.jpeg', 3],\n",
       " ['100e.jpeg', 3]]"
      ]
     },
     "execution_count": 119,
     "metadata": {},
     "output_type": "execute_result"
    }
   ],
   "source": [
    "# Concat the labels with the fnames:\n",
    "mc_lbl_list = list(map(lambda x, y:[x,y], fnames, mc_fname_lbls))\n",
    "mc_lbl_list[0:5]"
   ]
  },
  {
   "cell_type": "code",
   "execution_count": 120,
   "id": "7bdd75a2",
   "metadata": {},
   "outputs": [],
   "source": [
    "# Save as dictionary:\n",
    "mc_lab_dict = {}\n",
    "mc_lab_dict['labels'] = mc_lbl_list"
   ]
  },
  {
   "cell_type": "code",
   "execution_count": 122,
   "id": "5fdf07fb",
   "metadata": {},
   "outputs": [],
   "source": [
    "# Saving labels dict to json file:\n",
    "with open('data/labels/mc_dataset.json', 'w') as f:\n",
    "    json.dump(mc_lab_dict, f)"
   ]
  },
  {
   "cell_type": "markdown",
   "id": "afc1aab2",
   "metadata": {},
   "source": [
    "# Labelling the External Dataset Images:"
   ]
  },
  {
   "cell_type": "code",
   "execution_count": 97,
   "id": "770a4301",
   "metadata": {},
   "outputs": [
    {
     "data": {
      "text/plain": [
       "['all_imgs/External\\\\NIK-A008_0.jpeg',\n",
       " 'all_imgs/External\\\\NIK-A008_1.jpeg',\n",
       " 'all_imgs/External\\\\NIK-A008_10.jpeg',\n",
       " 'all_imgs/External\\\\NIK-A008_11.jpeg',\n",
       " 'all_imgs/External\\\\NIK-A008_12.jpeg']"
      ]
     },
     "execution_count": 97,
     "metadata": {},
     "output_type": "execute_result"
    }
   ],
   "source": [
    "ext_paths = glob.glob(\"data/niki_tcga/*\")\n",
    "ext_paths[0:5]"
   ]
  },
  {
   "cell_type": "code",
   "execution_count": 98,
   "id": "10982ef0",
   "metadata": {},
   "outputs": [
    {
     "data": {
      "text/html": [
       "<div>\n",
       "<style scoped>\n",
       "    .dataframe tbody tr th:only-of-type {\n",
       "        vertical-align: middle;\n",
       "    }\n",
       "\n",
       "    .dataframe tbody tr th {\n",
       "        vertical-align: top;\n",
       "    }\n",
       "\n",
       "    .dataframe thead th {\n",
       "        text-align: right;\n",
       "    }\n",
       "</style>\n",
       "<table border=\"1\" class=\"dataframe\">\n",
       "  <thead>\n",
       "    <tr style=\"text-align: right;\">\n",
       "      <th></th>\n",
       "      <th>case_id</th>\n",
       "      <th>diag_short</th>\n",
       "      <th>diagnosis</th>\n",
       "      <th>gender</th>\n",
       "      <th>dataset</th>\n",
       "      <th>classification</th>\n",
       "      <th>binary_class</th>\n",
       "    </tr>\n",
       "  </thead>\n",
       "  <tbody>\n",
       "    <tr>\n",
       "      <th>0</th>\n",
       "      <td>TCGA-BJ-A0Z2</td>\n",
       "      <td>FA</td>\n",
       "      <td>Follicular adenocarcinoma, NOS</td>\n",
       "      <td>Male</td>\n",
       "      <td>tcga</td>\n",
       "      <td>non-PTC-like</td>\n",
       "      <td>0</td>\n",
       "    </tr>\n",
       "    <tr>\n",
       "      <th>1</th>\n",
       "      <td>TCGA-DJ-A4UQ</td>\n",
       "      <td>NSC</td>\n",
       "      <td>Nonencapsulated sclerosing carcinoma</td>\n",
       "      <td>Male</td>\n",
       "      <td>tcga</td>\n",
       "      <td>non-PTC-like</td>\n",
       "      <td>0</td>\n",
       "    </tr>\n",
       "    <tr>\n",
       "      <th>2</th>\n",
       "      <td>TCGA-BJ-A192</td>\n",
       "      <td>OA</td>\n",
       "      <td>Oxyphilic adenocarcinoma</td>\n",
       "      <td>Female</td>\n",
       "      <td>tcga</td>\n",
       "      <td>non-PTC-like</td>\n",
       "      <td>0</td>\n",
       "    </tr>\n",
       "    <tr>\n",
       "      <th>3</th>\n",
       "      <td>TCGA-L6-A4ET</td>\n",
       "      <td>FVPTC</td>\n",
       "      <td>Papillary carcinoma, follicular variant</td>\n",
       "      <td>Female</td>\n",
       "      <td>tcga</td>\n",
       "      <td>PTC-like</td>\n",
       "      <td>1</td>\n",
       "    </tr>\n",
       "    <tr>\n",
       "      <th>4</th>\n",
       "      <td>TCGA-EM-A3OA</td>\n",
       "      <td>FVPTC</td>\n",
       "      <td>Papillary carcinoma, follicular variant</td>\n",
       "      <td>Female</td>\n",
       "      <td>tcga</td>\n",
       "      <td>PTC-like</td>\n",
       "      <td>1</td>\n",
       "    </tr>\n",
       "  </tbody>\n",
       "</table>\n",
       "</div>"
      ],
      "text/plain": [
       "        case_id diag_short                                diagnosis  gender  \\\n",
       "0  TCGA-BJ-A0Z2         FA           Follicular adenocarcinoma, NOS    Male   \n",
       "1  TCGA-DJ-A4UQ        NSC     Nonencapsulated sclerosing carcinoma    Male   \n",
       "2  TCGA-BJ-A192         OA                 Oxyphilic adenocarcinoma  Female   \n",
       "3  TCGA-L6-A4ET      FVPTC  Papillary carcinoma, follicular variant  Female   \n",
       "4  TCGA-EM-A3OA      FVPTC  Papillary carcinoma, follicular variant  Female   \n",
       "\n",
       "  dataset classification  binary_class  \n",
       "0    tcga   non-PTC-like             0  \n",
       "1    tcga   non-PTC-like             0  \n",
       "2    tcga   non-PTC-like             0  \n",
       "3    tcga       PTC-like             1  \n",
       "4    tcga       PTC-like             1  "
      ]
     },
     "execution_count": 98,
     "metadata": {},
     "output_type": "execute_result"
    }
   ],
   "source": [
    "ext_df = pd.read_csv('data/ext_data_classification.csv')\n",
    "ext_df.head()"
   ]
  },
  {
   "cell_type": "code",
   "execution_count": 99,
   "id": "e3ebbe84",
   "metadata": {},
   "outputs": [
    {
     "data": {
      "text/plain": [
       "['FA', 'NSC', 'OA', 'FVPTC', 'NIFTP', 'B']"
      ]
     },
     "execution_count": 99,
     "metadata": {},
     "output_type": "execute_result"
    }
   ],
   "source": [
    "ext_df['diag_short'].unique().tolist()"
   ]
  },
  {
   "cell_type": "code",
   "execution_count": 100,
   "id": "a0e3e158",
   "metadata": {},
   "outputs": [
    {
     "data": {
      "text/plain": [
       "['NIK-A008_0.jpeg',\n",
       " 'NIK-A008_1.jpeg',\n",
       " 'NIK-A008_10.jpeg',\n",
       " 'NIK-A008_11.jpeg',\n",
       " 'NIK-A008_12.jpeg']"
      ]
     },
     "execution_count": 100,
     "metadata": {},
     "output_type": "execute_result"
    }
   ],
   "source": [
    "# Return list of external filenames:\n",
    "ext_fnames = [os.path.split(x)[1] for x in ext_paths]\n",
    "ext_fnames[0:5]"
   ]
  },
  {
   "cell_type": "code",
   "execution_count": 101,
   "id": "d6003267",
   "metadata": {},
   "outputs": [
    {
     "name": "stdout",
     "output_type": "stream",
     "text": [
      "[1, 1, 1, 1, 1]\n",
      "['NIFTP', 'NIFTP', 'NIFTP', 'NIFTP', 'NIFTP']\n",
      "['A008', 'A008', 'A008', 'A008', 'A008']\n"
     ]
    }
   ],
   "source": [
    "# Returning lists for binary classification (PTC-like (1.0) or Not (0.0)), diagnosis and patient id:\n",
    "ext_class = [int(ext_df[ext_df['case_id']==x.split('_')[0]].binary_class.values[0]) for x in ext_fnames]\n",
    "print(ext_class[0:5])\n",
    "ext_diag =[ext_df[ext_df['case_id']==x.split('_')[0]].diag_short.values[0] for x in ext_fnames]\n",
    "print(ext_diag[0:5])\n",
    "ext_pat = [x.split('_')[0].split('-')[-1] for x in ext_fnames]\n",
    "print(ext_pat[0:5])"
   ]
  },
  {
   "cell_type": "code",
   "execution_count": 102,
   "id": "b1ef5a5c",
   "metadata": {},
   "outputs": [
    {
     "data": {
      "text/plain": [
       "[['NIK-A008_0.jpeg', 1, 'A008', 'NIFTP'],\n",
       " ['NIK-A008_1.jpeg', 1, 'A008', 'NIFTP'],\n",
       " ['NIK-A008_10.jpeg', 1, 'A008', 'NIFTP'],\n",
       " ['NIK-A008_11.jpeg', 1, 'A008', 'NIFTP'],\n",
       " ['NIK-A008_12.jpeg', 1, 'A008', 'NIFTP']]"
      ]
     },
     "execution_count": 102,
     "metadata": {},
     "output_type": "execute_result"
    }
   ],
   "source": [
    "ext_meta_list = list(map(lambda a,b,c,d:[a,b,c,d], ext_fnames, ext_class, ext_pat, ext_diag))\n",
    "ext_meta_list[0:5]"
   ]
  },
  {
   "cell_type": "code",
   "execution_count": 103,
   "id": "652e452e",
   "metadata": {},
   "outputs": [],
   "source": [
    "ext_lab_dict = {}\n",
    "# Only using these for testing not training, so only need a 'meta' dict:\n",
    "ext_lab_dict['meta'] = ext_meta_list"
   ]
  },
  {
   "cell_type": "code",
   "execution_count": 104,
   "id": "cae49a10",
   "metadata": {},
   "outputs": [],
   "source": [
    "# Saving labels dict to json file:\n",
    "with open('data/labels/ext_dataset.json', 'w') as f:\n",
    "    json.dump(ext_lab_dict, f)"
   ]
  },
  {
   "cell_type": "code",
   "execution_count": 105,
   "id": "e997f093",
   "metadata": {},
   "outputs": [],
   "source": [
    "# Add all filenames to a dictionary for testing:\n",
    "test_dict = {}\n",
    "test_dict['test'] = ext_fnames"
   ]
  },
  {
   "cell_type": "code",
   "execution_count": 106,
   "id": "d93dd24c",
   "metadata": {},
   "outputs": [],
   "source": [
    "# Saving testing dict to json file:\n",
    "with open('data/labels/ext_test_fnames.json', 'w') as f:\n",
    "    json.dump(test_dict, f)"
   ]
  }
 ],
 "metadata": {
  "kernelspec": {
   "display_name": "Python 3 (ipykernel)",
   "language": "python",
   "name": "python3"
  },
  "language_info": {
   "codemirror_mode": {
    "name": "ipython",
    "version": 3
   },
   "file_extension": ".py",
   "mimetype": "text/x-python",
   "name": "python",
   "nbconvert_exporter": "python",
   "pygments_lexer": "ipython3",
   "version": "3.9.7"
  },
  "toc": {
   "base_numbering": 1,
   "nav_menu": {},
   "number_sections": true,
   "sideBar": true,
   "skip_h1_title": false,
   "title_cell": "Table of Contents",
   "title_sidebar": "Contents",
   "toc_cell": false,
   "toc_position": {
    "height": "calc(100% - 180px)",
    "left": "10px",
    "top": "150px",
    "width": "512px"
   },
   "toc_section_display": true,
   "toc_window_display": true
  }
 },
 "nbformat": 4,
 "nbformat_minor": 5
}
